{
 "cells": [
  {
   "cell_type": "code",
   "execution_count": 1,
   "metadata": {},
   "outputs": [],
   "source": [
    "from tqdm import tqdm\n",
    "import random\n",
    "import pandas as pd\n",
    "import numpy as np\n",
    "import seaborn as sns\n",
    "import unidecode\n",
    "import re\n",
    "\n",
    "from generate_dataset import *"
   ]
  },
  {
   "cell_type": "code",
   "execution_count": 2,
   "metadata": {},
   "outputs": [],
   "source": [
    "data_file = 'data/data_27topics_processed.txt'\n",
    "language = 'vi'\n",
    "with open(data_file, 'r') as file:\n",
    "    reader = file.readlines()"
   ]
  },
  {
   "cell_type": "code",
   "execution_count": 3,
   "metadata": {},
   "outputs": [
    {
     "data": {
      "text/plain": [
       "359993"
      ]
     },
     "execution_count": 3,
     "metadata": {},
     "output_type": "execute_result"
    }
   ],
   "source": [
    "len(reader)"
   ]
  },
  {
   "cell_type": "code",
   "execution_count": 4,
   "metadata": {},
   "outputs": [],
   "source": [
    "list_len = []\n",
    "sentences = []\n",
    "for line in reader:\n",
    "    if len(line.split()) in range(5, 45):\n",
    "        sentences.append(line)\n",
    "        list_len.append(line.split().__len__())"
   ]
  },
  {
   "cell_type": "code",
   "execution_count": 5,
   "metadata": {},
   "outputs": [
    {
     "data": {
      "text/plain": [
       "302398"
      ]
     },
     "execution_count": 5,
     "metadata": {},
     "output_type": "execute_result"
    }
   ],
   "source": [
    "len(list_len)"
   ]
  },
  {
   "cell_type": "code",
   "execution_count": 6,
   "metadata": {},
   "outputs": [
    {
     "data": {
      "text/html": [
       "<div>\n",
       "<style scoped>\n",
       "    .dataframe tbody tr th:only-of-type {\n",
       "        vertical-align: middle;\n",
       "    }\n",
       "\n",
       "    .dataframe tbody tr th {\n",
       "        vertical-align: top;\n",
       "    }\n",
       "\n",
       "    .dataframe thead th {\n",
       "        text-align: right;\n",
       "    }\n",
       "</style>\n",
       "<table border=\"1\" class=\"dataframe\">\n",
       "  <thead>\n",
       "    <tr style=\"text-align: right;\">\n",
       "      <th></th>\n",
       "      <th>len</th>\n",
       "    </tr>\n",
       "  </thead>\n",
       "  <tbody>\n",
       "    <tr>\n",
       "      <th>0</th>\n",
       "      <td>34</td>\n",
       "    </tr>\n",
       "    <tr>\n",
       "      <th>1</th>\n",
       "      <td>20</td>\n",
       "    </tr>\n",
       "    <tr>\n",
       "      <th>2</th>\n",
       "      <td>39</td>\n",
       "    </tr>\n",
       "    <tr>\n",
       "      <th>3</th>\n",
       "      <td>21</td>\n",
       "    </tr>\n",
       "    <tr>\n",
       "      <th>4</th>\n",
       "      <td>24</td>\n",
       "    </tr>\n",
       "  </tbody>\n",
       "</table>\n",
       "</div>"
      ],
      "text/plain": [
       "   len\n",
       "0   34\n",
       "1   20\n",
       "2   39\n",
       "3   21\n",
       "4   24"
      ]
     },
     "execution_count": 6,
     "metadata": {},
     "output_type": "execute_result"
    }
   ],
   "source": [
    "df = pd.DataFrame(list_len, columns=['len'])\n",
    "df.head()"
   ]
  },
  {
   "cell_type": "code",
   "execution_count": 7,
   "metadata": {},
   "outputs": [
    {
     "data": {
      "text/plain": [
       "<seaborn.axisgrid.FacetGrid at 0x1e97e586d80>"
      ]
     },
     "execution_count": 7,
     "metadata": {},
     "output_type": "execute_result"
    },
    {
     "data": {
      "image/png": "[encoded data removed]",
      "text/plain": [
       "<Figure size 571.125x500 with 1 Axes>"
      ]
     },
     "metadata": {},
     "output_type": "display_data"
    }
   ],
   "source": [
    "sns.displot(df)"
   ]
  },
  {
   "cell_type": "code",
   "execution_count": 8,
   "metadata": {},
   "outputs": [
    {
     "data": {
      "text/plain": [
       "['Hồng',\n",
       " 'Ngọc',\n",
       " ':',\n",
       " 'Theo',\n",
       " 'quy',\n",
       " 'luật',\n",
       " ',',\n",
       " '.',\n",
       " '.',\n",
       " '.',\n",
       " 'nhóm',\n",
       " 'sẽ',\n",
       " 'tan',\n",
       " ',',\n",
       " 'mỗi',\n",
       " 'người',\n",
       " 'sẽ',\n",
       " 'đi',\n",
       " 'theo',\n",
       " 'hướng',\n",
       " 'riêng',\n",
       " 'của',\n",
       " 'mình',\n",
       " '.']"
      ]
     },
     "execution_count": 8,
     "metadata": {},
     "output_type": "execute_result"
    }
   ],
   "source": [
    "import re\n",
    "text = \"Hồng Ngọc: Theo quy luật,... nhóm sẽ tan, mỗi người sẽ đi theo hướng riêng của mình.\"\n",
    "re.findall(r'\\w+|[^\\w\\s]', text)"
   ]
  },
  {
   "cell_type": "code",
   "execution_count": 11,
   "metadata": {},
   "outputs": [
    {
     "name": "stderr",
     "output_type": "stream",
     "text": [
      " 97%|█████████▋| 291834/302398 [05:23<00:11, 901.73it/s] \n"
     ]
    }
   ],
   "source": [
    "data = {\n",
    "    'sentence': [],\n",
    "    'label': []\n",
    "}\n",
    "\n",
    "for line in tqdm(sentences):\n",
    "    line = line.rstrip('\\n').rstrip()\n",
    "    tokens = re.findall(r'\\w+|[^\\w\\s]', line) # Tách dấu câu ra\n",
    "    line = \" \".join(tokens)\n",
    "\n",
    "    if '. ' in line:\n",
    "        continue\n",
    "    '''\n",
    "    mỗi từ có xác suất: \n",
    "        remove_random_space 0.025\n",
    "        remove_random_accent 0.025\n",
    "        replace_accent_chars 0.025\n",
    "        lower_case_words = 0.025\n",
    "    mỗi chữ cái có xác suất:\n",
    "        swap_characters_case 0.01\n",
    "        delete_characters 0.01\n",
    "        insert_characters 0.01\n",
    "        replace_characters 0.01\n",
    "    '''\n",
    "\n",
    "    idx = list()\n",
    "    w_functions = [remove_random_space, remove_random_accent, replace_accent_chars, lower_case_words]\n",
    "    c_functions = [swap_characters_case, delete_characters, insert_characters, replace_characters]\n",
    "    for func in w_functions:\n",
    "        line, _ = func(line, 0.025) \n",
    "        idx.extend(_)\n",
    "    \n",
    "    for func in c_functions:\n",
    "        line, _ = func(line, 0.01) \n",
    "        idx.extend(_)\n",
    "    \n",
    "    mask = []\n",
    "    for i in range(len(line.split())):\n",
    "        mask.append(int(i in idx))\n",
    "    \n",
    "    data['sentence'].append(line)\n",
    "\n",
    "    label = [str(i) for i in mask]\n",
    "    label = ''.join(label)\n",
    "    data['label'].append(label)\n",
    "\n",
    "    if len(data['sentence']) == 250000:\n",
    "        break"
   ]
  },
  {
   "cell_type": "code",
   "execution_count": 12,
   "metadata": {},
   "outputs": [],
   "source": [
    "assert data['sentence'].__len__() == data['label'].__len__()"
   ]
  },
  {
   "cell_type": "code",
   "execution_count": 13,
   "metadata": {},
   "outputs": [
    {
     "data": {
      "text/html": [
       "<div>\n",
       "<style scoped>\n",
       "    .dataframe tbody tr th:only-of-type {\n",
       "        vertical-align: middle;\n",
       "    }\n",
       "\n",
       "    .dataframe tbody tr th {\n",
       "        vertical-align: top;\n",
       "    }\n",
       "\n",
       "    .dataframe thead th {\n",
       "        text-align: right;\n",
       "    }\n",
       "</style>\n",
       "<table border=\"1\" class=\"dataframe\">\n",
       "  <thead>\n",
       "    <tr style=\"text-align: right;\">\n",
       "      <th></th>\n",
       "      <th>sentence</th>\n",
       "      <th>label</th>\n",
       "    </tr>\n",
       "  </thead>\n",
       "  <tbody>\n",
       "    <tr>\n",
       "      <th>249990</th>\n",
       "      <td>Sự phức tạp thích hợp vớicác nhà biệt thựhoặc ...</td>\n",
       "      <td>0000010011000</td>\n",
       "    </tr>\n",
       "    <tr>\n",
       "      <th>249991</th>\n",
       "      <td>TNrận đấu kết thúc sau 65 phúT , với 28 lỗi tự...</td>\n",
       "      <td>100000100000010001101010</td>\n",
       "    </tr>\n",
       "    <tr>\n",
       "      <th>249992</th>\n",
       "      <td>Nếu CAssano quyết định rời sân Olimpico thì qn...</td>\n",
       "      <td>01000000110000000000000</td>\n",
       "    </tr>\n",
       "    <tr>\n",
       "      <th>249993</th>\n",
       "      <td>Tất cả các đôi nam nữ , kể cả khi họ đã là vợ ...</td>\n",
       "      <td>000000000000000001011010</td>\n",
       "    </tr>\n",
       "    <tr>\n",
       "      <th>249994</th>\n",
       "      <td>Loại mÁy dùng trong gia đình bán chạy nhat là ...</td>\n",
       "      <td>01000000100000100000000110011000100000000</td>\n",
       "    </tr>\n",
       "    <tr>\n",
       "      <th>249995</th>\n",
       "      <td>ChelsKea hành động như vậy cũng là để thể iện ...</td>\n",
       "      <td>10000000010000100110000010110</td>\n",
       "    </tr>\n",
       "    <tr>\n",
       "      <th>249996</th>\n",
       "      <td>Đơn vị giao dỉch là 100 cổ phiếu hoặc hoặc 10 ...</td>\n",
       "      <td>00010000000000000000</td>\n",
       "    </tr>\n",
       "    <tr>\n",
       "      <th>249997</th>\n",
       "      <td>Quyết định trên của đội bóng thanh London được...</td>\n",
       "      <td>00000010000000</td>\n",
       "    </tr>\n",
       "    <tr>\n",
       "      <th>249998</th>\n",
       "      <td>Trong khi đò , Brussels cũng Nói rằng họ có tr...</td>\n",
       "      <td>00100010001100000000</td>\n",
       "    </tr>\n",
       "    <tr>\n",
       "      <th>249999</th>\n",
       "      <td>Có những mẩu quản cáo mang ý nghĩa giáo dục rấ...</td>\n",
       "      <td>0001000000000110010000000</td>\n",
       "    </tr>\n",
       "  </tbody>\n",
       "</table>\n",
       "</div>"
      ],
      "text/plain": [
       "                                                 sentence  \\\n",
       "249990  Sự phức tạp thích hợp vớicác nhà biệt thựhoặc ...   \n",
       "249991  TNrận đấu kết thúc sau 65 phúT , với 28 lỗi tự...   \n",
       "249992  Nếu CAssano quyết định rời sân Olimpico thì qn...   \n",
       "249993  Tất cả các đôi nam nữ , kể cả khi họ đã là vợ ...   \n",
       "249994  Loại mÁy dùng trong gia đình bán chạy nhat là ...   \n",
       "249995  ChelsKea hành động như vậy cũng là để thể iện ...   \n",
       "249996  Đơn vị giao dỉch là 100 cổ phiếu hoặc hoặc 10 ...   \n",
       "249997  Quyết định trên của đội bóng thanh London được...   \n",
       "249998  Trong khi đò , Brussels cũng Nói rằng họ có tr...   \n",
       "249999  Có những mẩu quản cáo mang ý nghĩa giáo dục rấ...   \n",
       "\n",
       "                                            label  \n",
       "249990                              0000010011000  \n",
       "249991                   100000100000010001101010  \n",
       "249992                    01000000110000000000000  \n",
       "249993                   000000000000000001011010  \n",
       "249994  01000000100000100000000110011000100000000  \n",
       "249995              10000000010000100110000010110  \n",
       "249996                       00010000000000000000  \n",
       "249997                             00000010000000  \n",
       "249998                       00100010001100000000  \n",
       "249999                  0001000000000110010000000  "
      ]
     },
     "execution_count": 13,
     "metadata": {},
     "output_type": "execute_result"
    }
   ],
   "source": [
    "df_data = pd.DataFrame(data)\n",
    "df_data.tail(10)"
   ]
  },
  {
   "cell_type": "code",
   "execution_count": 14,
   "metadata": {},
   "outputs": [],
   "source": [
    "df_data.to_csv('data/data250k.csv', index=False)"
   ]
  },
  {
   "cell_type": "code",
   "execution_count": null,
   "metadata": {},
   "outputs": [],
   "source": []
  },
  {
   "cell_type": "code",
   "execution_count": null,
   "metadata": {},
   "outputs": [],
   "source": []
  }
 ],
 "metadata": {
  "kernelspec": {
   "display_name": "env_tandat17z",
   "language": "python",
   "name": "python3"
  },
  "language_info": {
   "codemirror_mode": {
    "name": "ipython",
    "version": 3
   },
   "file_extension": ".py",
   "mimetype": "text/x-python",
   "name": "python",
   "nbconvert_exporter": "python",
   "pygments_lexer": "ipython3",
   "version": "3.12.3"
  }
 },
 "nbformat": 4,
 "nbformat_minor": 2
}
